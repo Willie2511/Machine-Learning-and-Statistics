{
 "cells": [
  {
   "cell_type": "markdown",
   "id": "8485deac",
   "metadata": {},
   "source": [
    "# Statistics\n",
    "\n",
    "***"
   ]
  },
  {
   "cell_type": "code",
   "execution_count": 27,
   "id": "e25a752e",
   "metadata": {},
   "outputs": [],
   "source": [
    "import numpy as np"
   ]
  },
  {
   "cell_type": "code",
   "execution_count": 28,
   "id": "3f897370",
   "metadata": {},
   "outputs": [
    {
     "data": {
      "text/plain": [
       "[0, 1, 2, 3, 4, 5, 6, 7]"
      ]
     },
     "execution_count": 28,
     "metadata": {},
     "output_type": "execute_result"
    }
   ],
   "source": [
    "# The eight cups.\n",
    "cups = list(range(8))\n",
    "cups"
   ]
  },
  {
   "cell_type": "code",
   "execution_count": 29,
   "id": "ed32a2b3",
   "metadata": {},
   "outputs": [
    {
     "data": {
      "text/plain": [
       "70"
      ]
     },
     "execution_count": 29,
     "metadata": {},
     "output_type": "execute_result"
    }
   ],
   "source": [
    "import itertools\n",
    "\n",
    "poss = list(itertools.combinations(cups, 4))\n",
    "len(poss)"
   ]
  },
  {
   "cell_type": "code",
   "execution_count": 30,
   "id": "4968fef0",
   "metadata": {},
   "outputs": [
    {
     "data": {
      "text/plain": [
       "0.014285714285714285"
      ]
     },
     "execution_count": 30,
     "metadata": {},
     "output_type": "execute_result"
    }
   ],
   "source": [
    "# Only one of the 70 randomly selected possibilities is the desired result.\n",
    "1 / 70"
   ]
  },
  {
   "cell_type": "code",
   "execution_count": 31,
   "id": "fb8824f4",
   "metadata": {},
   "outputs": [
    {
     "data": {
      "text/plain": [
       "70.0"
      ]
     },
     "execution_count": 31,
     "metadata": {},
     "output_type": "execute_result"
    }
   ],
   "source": [
    "(8*7*6*5)/(4*3*2*1)"
   ]
  },
  {
   "cell_type": "markdown",
   "id": "d715b887",
   "metadata": {},
   "source": [
    "## Exercise 1\n",
    "\n",
    "***"
   ]
  },
  {
   "cell_type": "markdown",
   "id": "8ca0df2e",
   "metadata": {},
   "source": [
    "Calculate the minimum number of cups of tea required to ensure the probability of randomly selecting the correct cups is less than or equal to 1%.\n",
    "\n",
    "Bonus: How many would be required if you were to let the taster get one cup wrong while maintaining the 1% threshold?"
   ]
  },
  {
   "cell_type": "code",
   "execution_count": 75,
   "id": "1b7314c2",
   "metadata": {},
   "outputs": [
    {
     "data": {
      "text/plain": [
       "[0, 1, 2, 3, 4, 5, 6, 7, 8]"
      ]
     },
     "execution_count": 75,
     "metadata": {},
     "output_type": "execute_result"
    }
   ],
   "source": [
    "# Using 9 cups\n",
    "cups = list(range(9))\n",
    "cups"
   ]
  },
  {
   "cell_type": "markdown",
   "id": "eac096f3",
   "metadata": {},
   "source": [
    "selecting 4 from 9 cups\n",
    "\n",
    "9! / (4! * (9 - 4)!)"
   ]
  },
  {
   "cell_type": "code",
   "execution_count": 76,
   "id": "5ced55fa",
   "metadata": {},
   "outputs": [
    {
     "data": {
      "text/plain": [
       "126.0"
      ]
     },
     "execution_count": 76,
     "metadata": {},
     "output_type": "execute_result"
    }
   ],
   "source": [
    "(9*8*7*6)/(4*3*2*1)"
   ]
  },
  {
   "cell_type": "code",
   "execution_count": 77,
   "id": "e4bd4a91",
   "metadata": {},
   "outputs": [
    {
     "data": {
      "text/plain": [
       "0.007936507936507936"
      ]
     },
     "execution_count": 77,
     "metadata": {},
     "output_type": "execute_result"
    }
   ],
   "source": [
    "1/126"
   ]
  },
  {
   "cell_type": "code",
   "execution_count": null,
   "id": "04666b14",
   "metadata": {},
   "outputs": [],
   "source": []
  },
  {
   "cell_type": "code",
   "execution_count": 78,
   "id": "4c38b05f",
   "metadata": {},
   "outputs": [
    {
     "data": {
      "text/plain": [
       "126"
      ]
     },
     "execution_count": 78,
     "metadata": {},
     "output_type": "execute_result"
    }
   ],
   "source": [
    "# Using Itertools to get all possible combinations\n",
    "posNew = list(itertools.combinations(cups, 4))\n",
    "len(posNew)"
   ]
  },
  {
   "cell_type": "code",
   "execution_count": 79,
   "id": "48827eb7",
   "metadata": {},
   "outputs": [
    {
     "data": {
      "text/plain": [
       "0.007936507936507936"
      ]
     },
     "execution_count": 79,
     "metadata": {},
     "output_type": "execute_result"
    }
   ],
   "source": [
    "# As only one combination is correct, we calculate percentage using 1/length of possible combinations\n",
    "1/len(posNew)"
   ]
  },
  {
   "cell_type": "markdown",
   "id": "c73ae447",
   "metadata": {},
   "source": [
    "Bonus"
   ]
  },
  {
   "cell_type": "code",
   "execution_count": 80,
   "id": "86cfd31a",
   "metadata": {},
   "outputs": [
    {
     "data": {
      "text/plain": [
       "[0, 1, 2, 3, 4, 5, 6, 7, 8, 9]"
      ]
     },
     "execution_count": 80,
     "metadata": {},
     "output_type": "execute_result"
    }
   ],
   "source": [
    "cups = list(range(10))\n",
    "cups"
   ]
  },
  {
   "cell_type": "code",
   "execution_count": 82,
   "id": "746f185a",
   "metadata": {},
   "outputs": [
    {
     "data": {
      "text/plain": [
       "120.0"
      ]
     },
     "execution_count": 82,
     "metadata": {},
     "output_type": "execute_result"
    }
   ],
   "source": [
    "(10*9*8)/(3*2*1)"
   ]
  },
  {
   "cell_type": "code",
   "execution_count": 83,
   "id": "22068845",
   "metadata": {},
   "outputs": [
    {
     "data": {
      "text/plain": [
       "120"
      ]
     },
     "execution_count": 83,
     "metadata": {},
     "output_type": "execute_result"
    }
   ],
   "source": [
    "possBonus = list(itertools.combinations(cups, 3))\n",
    "len(possBonus)"
   ]
  },
  {
   "cell_type": "code",
   "execution_count": 84,
   "id": "5459d5d4",
   "metadata": {},
   "outputs": [
    {
     "data": {
      "text/plain": [
       "0.008333333333333333"
      ]
     },
     "execution_count": 84,
     "metadata": {},
     "output_type": "execute_result"
    }
   ],
   "source": [
    "1/len(possBonus)"
   ]
  },
  {
   "cell_type": "markdown",
   "id": "2114a812",
   "metadata": {},
   "source": [
    "## Exercise 2\n",
    "\n",
    "***"
   ]
  },
  {
   "cell_type": "markdown",
   "id": "1f73dae0",
   "metadata": {},
   "source": [
    "Use scipy's version of Fisher's exact test to simulate the Lady Tasting Tea problem."
   ]
  },
  {
   "cell_type": "code",
   "execution_count": 104,
   "id": "331f3b18",
   "metadata": {},
   "outputs": [],
   "source": [
    "from scipy.stats import fisher_exact"
   ]
  },
  {
   "cell_type": "code",
   "execution_count": 105,
   "id": "ed4b649c",
   "metadata": {},
   "outputs": [
    {
     "name": "stdout",
     "output_type": "stream",
     "text": [
      "Probability of 4 cups selected correctly is 0.01429\n"
     ]
    }
   ],
   "source": [
    "# Probability using 8 cups\n",
    "\n",
    "poss = [[4,0], [0,4]]\n",
    "_, p = stats.fisher_exact(poss, alternative='greater')\n",
    "\n",
    "print('Probability of 4 cups selected correctly is {0:5.5f}'.format(p))"
   ]
  },
  {
   "cell_type": "code",
   "execution_count": 106,
   "id": "a02c408f",
   "metadata": {},
   "outputs": [
    {
     "name": "stdout",
     "output_type": "stream",
     "text": [
      "Probability of 4 cups selected correctly is 0.00794\n"
     ]
    }
   ],
   "source": [
    "# Probability using 9 cups\n",
    "\n",
    "poss2 = [[5,0], [0,4]]\n",
    "_, p = stats.fisher_exact(poss2, alternative='greater')\n",
    "\n",
    "print('Probability of 4 cups selected correctly is {0:5.5f}'.format(p))"
   ]
  },
  {
   "cell_type": "markdown",
   "id": "f1f69a6e",
   "metadata": {},
   "source": [
    "## Exercise 3\n",
    "\n",
    "***"
   ]
  },
  {
   "cell_type": "markdown",
   "id": "9833d0e8",
   "metadata": {},
   "source": [
    "Take the code from the Examples section of the scipy stats documentation for independent samples t-tests, add it to your own notebook and add explain how it works using MarkDown cells and code comments. Improve it in any way you think it could be improved."
   ]
  },
  {
   "cell_type": "code",
   "execution_count": null,
   "id": "dd6ceab4",
   "metadata": {},
   "outputs": [],
   "source": []
  }
 ],
 "metadata": {
  "kernelspec": {
   "display_name": "Python 3 (ipykernel)",
   "language": "python",
   "name": "python3"
  },
  "language_info": {
   "codemirror_mode": {
    "name": "ipython",
    "version": 3
   },
   "file_extension": ".py",
   "mimetype": "text/x-python",
   "name": "python",
   "nbconvert_exporter": "python",
   "pygments_lexer": "ipython3",
   "version": "3.7.4"
  }
 },
 "nbformat": 4,
 "nbformat_minor": 5
}
