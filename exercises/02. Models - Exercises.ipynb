{
 "cells": [
  {
   "cell_type": "markdown",
   "id": "a5a92f64",
   "metadata": {},
   "source": [
    "# Models\n",
    "\n",
    "***"
   ]
  },
  {
   "cell_type": "code",
   "execution_count": 1,
   "id": "b269cc7d",
   "metadata": {},
   "outputs": [],
   "source": [
    "import matplotlib.pyplot as plt\n",
    "import numpy as np\n",
    "# Optimization.\n",
    "import scipy.optimize as so"
   ]
  },
  {
   "cell_type": "markdown",
   "id": "90b13694",
   "metadata": {},
   "source": [
    "Exercise 1 - Use numpy and matplotlib to plot the absolute value function."
   ]
  },
  {
   "cell_type": "code",
   "execution_count": 2,
   "id": "847b1937",
   "metadata": {},
   "outputs": [
    {
     "data": {
      "image/png": "[encoded data removed]",
      "text/plain": [
       "<Figure size 432x288 with 1 Axes>"
      ]
     },
     "metadata": {
      "needs_background": "light"
     },
     "output_type": "display_data"
    }
   ],
   "source": [
    "x = np.arange(-1, 3 * 4)\n",
    "a = 2*x\n",
    "b = x*3\n",
    "y = np.abs(a*x+b)\n",
    "plt.plot(x,y)\n",
    "plt.xlabel('x values')\n",
    "plt.ylabel('y values')\n",
    "plt.title('absolute function')\n",
    "plt.grid(True)\n",
    "plt.show()\n"
   ]
  },
  {
   "cell_type": "markdown",
   "id": "959742d9",
   "metadata": {},
   "source": [
    "Exercise 2"
   ]
  },
  {
   "cell_type": "code",
   "execution_count": 37,
   "id": "ec0fd7e1",
   "metadata": {},
   "outputs": [],
   "source": [
    "x = [2.0, 3.0, 4.0, 5.0, 6.0, 7.0, 8.0, 9.0, 10.0, 11.0, 12.0, 13.0, 14.0, 15.0, 16.0, 17.0, 18.0, 19.0, 20.0]\n",
    "y = [0.7, 1.1, 1.5, 1.6, 1.7, 2.0, 2.3, 2.4, 2.2, 2.1, 2.4, 2.6, 2.2, 2.7, 2.5, 2.7, 2.8, 2.9, 3.1]"
   ]
  },
  {
   "cell_type": "code",
   "execution_count": 38,
   "id": "ed7a7680",
   "metadata": {},
   "outputs": [
    {
     "data": {
      "image/png": "[encoded data removed]",
      "text/plain": [
       "<Figure size 432x288 with 1 Axes>"
      ]
     },
     "metadata": {
      "needs_background": "light"
     },
     "output_type": "display_data"
    }
   ],
   "source": [
    "plt.plot(x, y, 'k.')\n",
    "plt.xlabel('Weight')\n",
    "plt.ylabel('Distance')\n",
    "plt.show()"
   ]
  },
  {
   "cell_type": "code",
   "execution_count": 39,
   "id": "6b73a0bc",
   "metadata": {},
   "outputs": [],
   "source": [
    "x_avg = np.mean(x)\n",
    "y_avg = np.mean(y)"
   ]
  },
  {
   "cell_type": "code",
   "execution_count": 40,
   "id": "442421a8",
   "metadata": {},
   "outputs": [],
   "source": [
    "x_zero = x - x_avg\n",
    "y_zero = y - y_avg"
   ]
  },
  {
   "cell_type": "code",
   "execution_count": 41,
   "id": "a691e87e",
   "metadata": {},
   "outputs": [],
   "source": [
    "m = np.sum(x_zero * y_zero) / np.sum(x_zero * x_zero)\n",
    "c = y_avg - m * x_avg"
   ]
  },
  {
   "cell_type": "code",
   "execution_count": 44,
   "id": "3c312124",
   "metadata": {},
   "outputs": [
    {
     "name": "stdout",
     "output_type": "stream",
     "text": [
      "<class 'list'>\n"
     ]
    }
   ],
   "source": [
    "print(type(x))"
   ]
  },
  {
   "cell_type": "code",
   "execution_count": 46,
   "id": "c3470b75",
   "metadata": {},
   "outputs": [
    {
     "data": {
      "image/png": "[encoded data removed]",
      "text/plain": [
       "<Figure size 432x288 with 1 Axes>"
      ]
     },
     "metadata": {
      "needs_background": "light"
     },
     "output_type": "display_data"
    }
   ],
   "source": [
    "plt.plot(x, y, 'k.', label='Original data')\n",
    "plt.plot(x, np.multiply(m, x) + c, 'b-', label='Best fit line')\n",
    "\n",
    "\n",
    "plt.show()"
   ]
  },
  {
   "cell_type": "code",
   "execution_count": 49,
   "id": "d4711355",
   "metadata": {},
   "outputs": [],
   "source": [
    "def cost(MC):\n",
    "    # Unpack the values m and c.\n",
    "    m, c = MC\n",
    "    # We need the data points in this function.\n",
    "    cost = np.sum((y - np.multiply(m, x) - c)**2)\n",
    "    # Return that value.\n",
    "    return cost"
   ]
  },
  {
   "cell_type": "code",
   "execution_count": 50,
   "id": "e07b6bc6",
   "metadata": {},
   "outputs": [
    {
     "data": {
      "text/plain": [
       "88639.75"
      ]
     },
     "execution_count": 50,
     "metadata": {},
     "output_type": "execute_result"
    }
   ],
   "source": [
    "# Run a quick test.\n",
    "cost((5.0, 10.0))"
   ]
  },
  {
   "cell_type": "code",
   "execution_count": 51,
   "id": "4f3a4beb",
   "metadata": {},
   "outputs": [
    {
     "data": {
      "text/plain": [
       "      fun: 1.03957894736911\n",
       " hess_inv: array([[ 0.00087719, -0.00964912],\n",
       "       [-0.00964912,  0.13245614]])\n",
       "      jac: array([1.49011612e-08, 0.00000000e+00])\n",
       "  message: 'Optimization terminated successfully.'\n",
       "     nfev: 21\n",
       "      nit: 5\n",
       "     njev: 7\n",
       "   status: 0\n",
       "  success: True\n",
       "        x: array([0.10315786, 1.04947406])"
      ]
     },
     "execution_count": 51,
     "metadata": {},
     "output_type": "execute_result"
    }
   ],
   "source": [
    "# https://docs.scipy.org/doc/scipy/reference/generated/scipy.optimize.minimize.html#scipy.optimize.minimize\n",
    "result = so.minimize(cost, (2.0, 2.0))\n",
    "# Show the results.\n",
    "result"
   ]
  },
  {
   "cell_type": "code",
   "execution_count": null,
   "id": "4ec9ea1b",
   "metadata": {},
   "outputs": [],
   "source": []
  }
 ],
 "metadata": {
  "kernelspec": {
   "display_name": "Python 3 (ipykernel)",
   "language": "python",
   "name": "python3"
  },
  "language_info": {
   "codemirror_mode": {
    "name": "ipython",
    "version": 3
   },
   "file_extension": ".py",
   "mimetype": "text/x-python",
   "name": "python",
   "nbconvert_exporter": "python",
   "pygments_lexer": "ipython3",
   "version": "3.7.4"
  }
 },
 "nbformat": 4,
 "nbformat_minor": 5
}
