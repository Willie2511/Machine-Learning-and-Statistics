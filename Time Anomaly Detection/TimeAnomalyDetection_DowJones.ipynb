{
 "cells": [
  {
   "cell_type": "markdown",
   "id": "61864c85",
   "metadata": {},
   "source": [
    "# TimeSeries Anamoly Detection Using Keras on the Dow Jones Since 1980"
   ]
  },
  {
   "cell_type": "markdown",
   "id": "2c0ea8a7",
   "metadata": {},
   "source": [
    "First we import the necessary libraries we need to perform the analysis on the data."
   ]
  },
  {
   "cell_type": "code",
   "execution_count": 1,
   "id": "a15a581e",
   "metadata": {},
   "outputs": [
    {
     "name": "stderr",
     "output_type": "stream",
     "text": [
      "2023-01-20 20:41:10.401288: I tensorflow/core/platform/cpu_feature_guard.cc:193] This TensorFlow binary is optimized with oneAPI Deep Neural Network Library (oneDNN) to use the following CPU instructions in performance-critical operations:  AVX2 FMA\n",
      "To enable them in other operations, rebuild TensorFlow with the appropriate compiler flags.\n"
     ]
    },
    {
     "name": "stdout",
     "output_type": "stream",
     "text": [
      "Tensorflow version: 2.11.0\n"
     ]
    }
   ],
   "source": [
    "import numpy as np\n",
    "import tensorflow as tf\n",
    "import pandas as pd\n",
    "pd.options.mode.chained_assignment = None\n",
    "import seaborn as sns\n",
    "from matplotlib.pylab import rcParams\n",
    "import matplotlib.pyplot as plt\n",
    "import plotly.express as px\n",
    "import plotly.graph_objects as go\n",
    "\n",
    "%matplotlib inline\n",
    "\n",
    "np.random.seed(1)\n",
    "tf.random.set_seed(1)\n",
    "\n",
    "print('Tensorflow version:', tf.__version__)\n"
   ]
  },
  {
   "cell_type": "markdown",
   "id": "13d62e91",
   "metadata": {},
   "source": [
    "Importing the data from the csv file which was downloaded from the Historical database on YahooFinance."
   ]
  },
  {
   "cell_type": "markdown",
   "id": "e46231f2",
   "metadata": {},
   "source": [
    "We then print of the head and shape of the data to get an insight into the data we are working with."
   ]
  },
  {
   "cell_type": "code",
   "execution_count": 2,
   "id": "57582fa2",
   "metadata": {},
   "outputs": [
    {
     "data": {
      "text/html": [
       "<div>\n",
       "<style scoped>\n",
       "    .dataframe tbody tr th:only-of-type {\n",
       "        vertical-align: middle;\n",
       "    }\n",
       "\n",
       "    .dataframe tbody tr th {\n",
       "        vertical-align: top;\n",
       "    }\n",
       "\n",
       "    .dataframe thead th {\n",
       "        text-align: right;\n",
       "    }\n",
       "</style>\n",
       "<table border=\"1\" class=\"dataframe\">\n",
       "  <thead>\n",
       "    <tr style=\"text-align: right;\">\n",
       "      <th></th>\n",
       "      <th>Date</th>\n",
       "      <th>Open</th>\n",
       "      <th>High</th>\n",
       "      <th>Low</th>\n",
       "      <th>Close</th>\n",
       "      <th>Adj Close</th>\n",
       "      <th>Volume</th>\n",
       "    </tr>\n",
       "  </thead>\n",
       "  <tbody>\n",
       "    <tr>\n",
       "      <th>0</th>\n",
       "      <td>1980-01-21</td>\n",
       "      <td>157.350006</td>\n",
       "      <td>157.350006</td>\n",
       "      <td>157.350006</td>\n",
       "      <td>157.350006</td>\n",
       "      <td>157.350006</td>\n",
       "      <td>0</td>\n",
       "    </tr>\n",
       "    <tr>\n",
       "      <th>1</th>\n",
       "      <td>1980-01-22</td>\n",
       "      <td>156.919998</td>\n",
       "      <td>156.919998</td>\n",
       "      <td>156.919998</td>\n",
       "      <td>156.919998</td>\n",
       "      <td>156.919998</td>\n",
       "      <td>0</td>\n",
       "    </tr>\n",
       "    <tr>\n",
       "      <th>2</th>\n",
       "      <td>1980-01-23</td>\n",
       "      <td>158.500000</td>\n",
       "      <td>158.500000</td>\n",
       "      <td>158.500000</td>\n",
       "      <td>158.500000</td>\n",
       "      <td>158.500000</td>\n",
       "      <td>0</td>\n",
       "    </tr>\n",
       "    <tr>\n",
       "      <th>3</th>\n",
       "      <td>1980-01-24</td>\n",
       "      <td>159.240005</td>\n",
       "      <td>159.240005</td>\n",
       "      <td>159.240005</td>\n",
       "      <td>159.240005</td>\n",
       "      <td>159.240005</td>\n",
       "      <td>0</td>\n",
       "    </tr>\n",
       "    <tr>\n",
       "      <th>4</th>\n",
       "      <td>1980-01-25</td>\n",
       "      <td>159.699997</td>\n",
       "      <td>159.699997</td>\n",
       "      <td>159.699997</td>\n",
       "      <td>159.699997</td>\n",
       "      <td>159.699997</td>\n",
       "      <td>0</td>\n",
       "    </tr>\n",
       "  </tbody>\n",
       "</table>\n",
       "</div>"
      ],
      "text/plain": [
       "        Date        Open        High         Low       Close   Adj Close  \\\n",
       "0 1980-01-21  157.350006  157.350006  157.350006  157.350006  157.350006   \n",
       "1 1980-01-22  156.919998  156.919998  156.919998  156.919998  156.919998   \n",
       "2 1980-01-23  158.500000  158.500000  158.500000  158.500000  158.500000   \n",
       "3 1980-01-24  159.240005  159.240005  159.240005  159.240005  159.240005   \n",
       "4 1980-01-25  159.699997  159.699997  159.699997  159.699997  159.699997   \n",
       "\n",
       "   Volume  \n",
       "0       0  \n",
       "1       0  \n",
       "2       0  \n",
       "3       0  \n",
       "4       0  "
      ]
     },
     "execution_count": 2,
     "metadata": {},
     "output_type": "execute_result"
    }
   ],
   "source": [
    "df = pd.read_csv('DowJones.csv', parse_dates=['Date'])\n",
    "df.head()"
   ]
  },
  {
   "cell_type": "code",
   "execution_count": 3,
   "id": "c67d8133",
   "metadata": {},
   "outputs": [
    {
     "data": {
      "text/plain": [
       "(10841, 7)"
      ]
     },
     "execution_count": 3,
     "metadata": {},
     "output_type": "execute_result"
    }
   ],
   "source": [
    "df.shape"
   ]
  },
  {
   "cell_type": "markdown",
   "id": "63c0dbb2",
   "metadata": {},
   "source": [
    "We then preprocess and prepare the data by splitting it into test and train."
   ]
  },
  {
   "cell_type": "code",
   "execution_count": 4,
   "id": "d2759f68",
   "metadata": {},
   "outputs": [
    {
     "name": "stdout",
     "output_type": "stream",
     "text": [
      "(8672, 7) (2169, 7)\n"
     ]
    }
   ],
   "source": [
    "train_size = int(len(df) * 0.8)\n",
    "test_size = len(df) - train_size\n",
    "train, test = df.iloc[0:train_size], df.iloc[train_size:len(df)]\n",
    "print(train.shape, test.shape)"
   ]
  },
  {
   "cell_type": "markdown",
   "id": "7ef1084d",
   "metadata": {},
   "source": [
    "We then use Standard Scaler from the sklearn preprocessing library which standardizes features by removing the mean and scaling to unit variance."
   ]
  },
  {
   "cell_type": "code",
   "execution_count": 5,
   "id": "4d6b65be",
   "metadata": {},
   "outputs": [],
   "source": [
    "from sklearn.preprocessing import StandardScaler\n",
    "\n",
    "scaler = StandardScaler()\n",
    "scaler = scaler.fit(train[['Adj Close']])\n",
    "\n",
    "train['Adj Close'] = scaler.transform(train[['Adj Close']])\n",
    "test['Adj Close'] = scaler.transform(test[['Adj Close']])"
   ]
  },
  {
   "cell_type": "markdown",
   "id": "0b37395c",
   "metadata": {},
   "source": [
    "We then create a function which returns a 2D array."
   ]
  },
  {
   "cell_type": "code",
   "execution_count": 6,
   "id": "ddc8169b",
   "metadata": {},
   "outputs": [],
   "source": [
    "def create_dataset(X, y, time_steps=1):\n",
    "    Xs, ys = [], []\n",
    "    for i in range(len(X) - time_steps):\n",
    "        v = X.iloc[i:(i + time_steps)].values\n",
    "        Xs.append(v)        \n",
    "        ys.append(y.iloc[i + time_steps])\n",
    "    return np.array(Xs), np.array(ys)"
   ]
  },
  {
   "cell_type": "markdown",
   "id": "1f97de05",
   "metadata": {},
   "source": [
    "We then train the data splits"
   ]
  },
  {
   "cell_type": "code",
   "execution_count": 7,
   "id": "6091485e",
   "metadata": {},
   "outputs": [
    {
     "name": "stdout",
     "output_type": "stream",
     "text": [
      "(8642, 30, 1)\n"
     ]
    }
   ],
   "source": [
    "time_steps = 30\n",
    "\n",
    "X_train, y_train = create_dataset(train[['Adj Close']], train.Close, time_steps)\n",
    "X_test, y_test = create_dataset(test[['Adj Close']], test.Close, time_steps)\n",
    "\n",
    "print(X_train.shape)"
   ]
  },
  {
   "cell_type": "code",
   "execution_count": 8,
   "id": "b9498e64",
   "metadata": {},
   "outputs": [],
   "source": [
    "timesteps = X_train.shape[1]\n",
    "num_features = X_train.shape[2]"
   ]
  },
  {
   "cell_type": "markdown",
   "id": "473a9438",
   "metadata": {},
   "source": [
    "This is where we import the Keras libraries which will be used to build an LSTM Autoencoder.\n",
    "Sequential is imported as a model which is used to organise the Keras layers in sequential order.\n",
    "From the Keras Layers library we will use Dense, LSTM, Dropout, RepeatVector and TimeDistributed."
   ]
  },
  {
   "cell_type": "markdown",
   "id": "e90520dd",
   "metadata": {},
   "source": [
    "Keras Dense layer is the layer that contains all the neurons that are deeply connected within themselves.\n",
    "The Long Short-Term Memory Layer which is used to optimize performance.\n",
    "The Dropout Layer randomly sets input units to 0 with a frequency of rate at each step during training time, which helps prevent overfitting. The rate in the model below is set to 0.2. Dropout is used twice in this sequential model.\n",
    "Repeat Vector is used to repeat input a set number of times.\n",
    "The TimeDistributed Layer allows us to apply a layer to every temporal slice of an input."
   ]
  },
  {
   "cell_type": "markdown",
   "id": "3af7c400",
   "metadata": {},
   "source": [
    "Each Layer will be essential in creating a LSTM Autoencoder and you will see from the model below that we are using Sequential to sequence the layers.\n",
    "\n",
    "A summary of the model is printed below where you can clearly see the layer type, output shape and param numbers."
   ]
  },
  {
   "cell_type": "code",
   "execution_count": 9,
   "id": "32ad0fb1",
   "metadata": {},
   "outputs": [
    {
     "name": "stderr",
     "output_type": "stream",
     "text": [
      "2023-01-20 20:41:44.002995: I tensorflow/core/platform/cpu_feature_guard.cc:193] This TensorFlow binary is optimized with oneAPI Deep Neural Network Library (oneDNN) to use the following CPU instructions in performance-critical operations:  AVX2 FMA\n",
      "To enable them in other operations, rebuild TensorFlow with the appropriate compiler flags.\n"
     ]
    },
    {
     "name": "stdout",
     "output_type": "stream",
     "text": [
      "Model: \"sequential\"\n",
      "_________________________________________________________________\n",
      " Layer (type)                Output Shape              Param #   \n",
      "=================================================================\n",
      " lstm (LSTM)                 (None, 128)               66560     \n",
      "                                                                 \n",
      " dropout (Dropout)           (None, 128)               0         \n",
      "                                                                 \n",
      " repeat_vector (RepeatVector  (None, 30, 128)          0         \n",
      " )                                                               \n",
      "                                                                 \n",
      " lstm_1 (LSTM)               (None, 30, 128)           131584    \n",
      "                                                                 \n",
      " dropout_1 (Dropout)         (None, 30, 128)           0         \n",
      "                                                                 \n",
      " time_distributed (TimeDistr  (None, 30, 1)            129       \n",
      " ibuted)                                                         \n",
      "                                                                 \n",
      "=================================================================\n",
      "Total params: 198,273\n",
      "Trainable params: 198,273\n",
      "Non-trainable params: 0\n",
      "_________________________________________________________________\n"
     ]
    }
   ],
   "source": [
    "from tensorflow.keras.models import Sequential\n",
    "from tensorflow.keras.layers import Dense, LSTM, Dropout, RepeatVector, TimeDistributed\n",
    "\n",
    "model = Sequential([\n",
    "    LSTM(128, input_shape=(timesteps, num_features)),\n",
    "    Dropout(0.2),\n",
    "    RepeatVector(timesteps),\n",
    "    LSTM(128, return_sequences=True),\n",
    "    Dropout(0.2),\n",
    "    TimeDistributed(Dense(num_features))                 \n",
    "])\n",
    "\n",
    "model.compile(loss='mae', optimizer='adam')\n",
    "model.summary()"
   ]
  },
  {
   "cell_type": "markdown",
   "id": "9f77c0b2",
   "metadata": {},
   "source": [
    "We now create Keras callback where we use EarlyStopping setting patience to 3 while monitoring val_loss. If the network does not improve for 3 consecutive epochs the training process will stop.\n",
    "\n",
    "Setting the number of epochs is important, as the higher the number of epochs the more accurate the training. We have set the epochs to 50, while this make take a significant amount of time to run, it will provide the most accurate training. This will improve the model."
   ]
  },
  {
   "cell_type": "code",
   "execution_count": 10,
   "id": "b6d44709",
   "metadata": {},
   "outputs": [
    {
     "name": "stdout",
     "output_type": "stream",
     "text": [
      "244/244 [==============================] - 27s 83ms/step - loss: 1226.1407 - val_loss: 3194.4873\n"
     ]
    }
   ],
   "source": [
    "es = tf.keras.callbacks.EarlyStopping(monitor='val_loss', patience=3, mode='min')\n",
    "history = model.fit(\n",
    "    X_train, y_train,\n",
    "    epochs=50,\n",
    "    batch_size=32,\n",
    "    validation_split=0.1,\n",
    "    callbacks = [es],\n",
    "    shuffle=False\n",
    ")"
   ]
  },
  {
   "cell_type": "markdown",
   "id": "733e1ca4",
   "metadata": {},
   "source": [
    "We will not plot the training loss and val_loss below. The val_loss is seen to be higher than the training loss."
   ]
  },
  {
   "cell_type": "code",
   "execution_count": 11,
   "id": "6afa7bd6",
   "metadata": {},
   "outputs": [
    {
     "data": {
      "image/png": "[encoded data removed]",
      "text/plain": [
       "<Figure size 432x288 with 1 Axes>"
      ]
     },
     "metadata": {
      "needs_background": "light"
     },
     "output_type": "display_data"
    }
   ],
   "source": [
    "plt.plot(history.history['loss'], label='Training Loss')\n",
    "plt.plot(history.history['val_loss'], label='Validation Loss')\n",
    "plt.legend();"
   ]
  },
  {
   "cell_type": "markdown",
   "id": "12adc380",
   "metadata": {},
   "source": [
    "We now use model.predict() to predict the anomlay in our data by calculating the mean absolute error on the training data."
   ]
  },
  {
   "cell_type": "code",
   "execution_count": 12,
   "id": "b04857a9",
   "metadata": {},
   "outputs": [
    {
     "name": "stdout",
     "output_type": "stream",
     "text": [
      "271/271 [==============================] - 10s 32ms/step\n"
     ]
    }
   ],
   "source": [
    "X_train_pred = model.predict(X_train)\n",
    "\n",
    "train_mae_loss = pd.DataFrame(np.mean(np.abs(X_train_pred - X_train), axis=1), columns=['Error'])"
   ]
  },
  {
   "cell_type": "markdown",
   "id": "77669f4e",
   "metadata": {},
   "source": [
    "Here we use a displot to visualise the distribution loss of training mean absolute error."
   ]
  },
  {
   "cell_type": "code",
   "execution_count": 13,
   "id": "e1136275",
   "metadata": {},
   "outputs": [
    {
     "data": {
      "image/png": "[encoded data removed]",
      "text/plain": [
       "<Figure size 420.25x360 with 1 Axes>"
      ]
     },
     "metadata": {
      "needs_background": "light"
     },
     "output_type": "display_data"
    }
   ],
   "source": [
    "sns.displot(train_mae_loss, bins=50, kde=True);"
   ]
  },
  {
   "cell_type": "code",
   "execution_count": 14,
   "id": "3d2c68a5",
   "metadata": {},
   "outputs": [
    {
     "name": "stdout",
     "output_type": "stream",
     "text": [
      "67/67 [==============================] - 3s 37ms/step\n"
     ]
    }
   ],
   "source": [
    "X_test_pred = model.predict(X_test)\n",
    "\n",
    "test_mae_loss = np.mean(np.abs(X_test_pred - X_test), axis=1)"
   ]
  },
  {
   "cell_type": "code",
   "execution_count": 15,
   "id": "83ec3205",
   "metadata": {},
   "outputs": [
    {
     "name": "stderr",
     "output_type": "stream",
     "text": [
      "/Users/Willie/opt/anaconda3/lib/python3.7/site-packages/seaborn/distributions.py:2619: FutureWarning: `distplot` is a deprecated function and will be removed in a future version. Please adapt your code to use either `displot` (a figure-level function with similar flexibility) or `histplot` (an axes-level function for histograms).\n",
      "  warnings.warn(msg, FutureWarning)\n"
     ]
    },
    {
     "data": {
      "image/png": "[encoded data removed]",
      "text/plain": [
       "<Figure size 432x288 with 1 Axes>"
      ]
     },
     "metadata": {
      "needs_background": "light"
     },
     "output_type": "display_data"
    }
   ],
   "source": [
    "sns.distplot(test_mae_loss, bins=50, kde=True);"
   ]
  },
  {
   "cell_type": "markdown",
   "id": "f3cecf5b",
   "metadata": {},
   "source": [
    "Finally we will build a data frame which contains anomaly and loss values. This will detect if a value in the data frame is an anomaly or not."
   ]
  },
  {
   "cell_type": "code",
   "execution_count": 17,
   "id": "8660c4d5",
   "metadata": {},
   "outputs": [],
   "source": [
    "THRESHOLD = 0.65\n",
    "\n",
    "test_score_df = pd.DataFrame(test[time_steps:])\n",
    "test_score_df['loss'] = test_mae_loss\n",
    "test_score_df['threshold'] = THRESHOLD\n",
    "test_score_df['anomaly'] = test_score_df.loss > test_score_df.threshold\n",
    "test_score_df['close'] = test[time_steps:].Close"
   ]
  },
  {
   "cell_type": "markdown",
   "id": "88406952",
   "metadata": {},
   "source": [
    "We print the head of the dataframe to see the data and the column 'anomaly' which is a boolean value showcasing if that particular closing price is an anomaly or not."
   ]
  },
  {
   "cell_type": "code",
   "execution_count": 18,
   "id": "d204dedd",
   "metadata": {},
   "outputs": [
    {
     "data": {
      "text/html": [
       "<div>\n",
       "<style scoped>\n",
       "    .dataframe tbody tr th:only-of-type {\n",
       "        vertical-align: middle;\n",
       "    }\n",
       "\n",
       "    .dataframe tbody tr th {\n",
       "        vertical-align: top;\n",
       "    }\n",
       "\n",
       "    .dataframe thead th {\n",
       "        text-align: right;\n",
       "    }\n",
       "</style>\n",
       "<table border=\"1\" class=\"dataframe\">\n",
       "  <thead>\n",
       "    <tr style=\"text-align: right;\">\n",
       "      <th></th>\n",
       "      <th>Date</th>\n",
       "      <th>Open</th>\n",
       "      <th>High</th>\n",
       "      <th>Low</th>\n",
       "      <th>Close</th>\n",
       "      <th>Adj Close</th>\n",
       "      <th>Volume</th>\n",
       "      <th>loss</th>\n",
       "      <th>threshold</th>\n",
       "      <th>anomaly</th>\n",
       "      <th>close</th>\n",
       "    </tr>\n",
       "  </thead>\n",
       "  <tbody>\n",
       "    <tr>\n",
       "      <th>8702</th>\n",
       "      <td>2014-07-22</td>\n",
       "      <td>4444.939941</td>\n",
       "      <td>4464.129883</td>\n",
       "      <td>4443.350098</td>\n",
       "      <td>4456.020020</td>\n",
       "      <td>2.749144</td>\n",
       "      <td>1724440000</td>\n",
       "      <td>2.832170</td>\n",
       "      <td>0.65</td>\n",
       "      <td>True</td>\n",
       "      <td>4456.020020</td>\n",
       "    </tr>\n",
       "    <tr>\n",
       "      <th>8703</th>\n",
       "      <td>2014-07-23</td>\n",
       "      <td>4468.160156</td>\n",
       "      <td>4480.729980</td>\n",
       "      <td>4457.950195</td>\n",
       "      <td>4473.700195</td>\n",
       "      <td>2.765211</td>\n",
       "      <td>1909810000</td>\n",
       "      <td>2.825829</td>\n",
       "      <td>0.65</td>\n",
       "      <td>True</td>\n",
       "      <td>4473.700195</td>\n",
       "    </tr>\n",
       "    <tr>\n",
       "      <th>8704</th>\n",
       "      <td>2014-07-24</td>\n",
       "      <td>4481.609863</td>\n",
       "      <td>4485.500000</td>\n",
       "      <td>4465.939941</td>\n",
       "      <td>4472.109863</td>\n",
       "      <td>2.763766</td>\n",
       "      <td>1935090000</td>\n",
       "      <td>2.821500</td>\n",
       "      <td>0.65</td>\n",
       "      <td>True</td>\n",
       "      <td>4472.109863</td>\n",
       "    </tr>\n",
       "    <tr>\n",
       "      <th>8705</th>\n",
       "      <td>2014-07-25</td>\n",
       "      <td>4448.060059</td>\n",
       "      <td>4457.950195</td>\n",
       "      <td>4430.430176</td>\n",
       "      <td>4449.560059</td>\n",
       "      <td>2.743273</td>\n",
       "      <td>1711430000</td>\n",
       "      <td>2.815345</td>\n",
       "      <td>0.65</td>\n",
       "      <td>True</td>\n",
       "      <td>4449.560059</td>\n",
       "    </tr>\n",
       "    <tr>\n",
       "      <th>8706</th>\n",
       "      <td>2014-07-28</td>\n",
       "      <td>4451.120117</td>\n",
       "      <td>4455.390137</td>\n",
       "      <td>4413.919922</td>\n",
       "      <td>4444.910156</td>\n",
       "      <td>2.739047</td>\n",
       "      <td>1783250000</td>\n",
       "      <td>2.812607</td>\n",
       "      <td>0.65</td>\n",
       "      <td>True</td>\n",
       "      <td>4444.910156</td>\n",
       "    </tr>\n",
       "  </tbody>\n",
       "</table>\n",
       "</div>"
      ],
      "text/plain": [
       "           Date         Open         High          Low        Close  \\\n",
       "8702 2014-07-22  4444.939941  4464.129883  4443.350098  4456.020020   \n",
       "8703 2014-07-23  4468.160156  4480.729980  4457.950195  4473.700195   \n",
       "8704 2014-07-24  4481.609863  4485.500000  4465.939941  4472.109863   \n",
       "8705 2014-07-25  4448.060059  4457.950195  4430.430176  4449.560059   \n",
       "8706 2014-07-28  4451.120117  4455.390137  4413.919922  4444.910156   \n",
       "\n",
       "      Adj Close      Volume      loss  threshold  anomaly        close  \n",
       "8702   2.749144  1724440000  2.832170       0.65     True  4456.020020  \n",
       "8703   2.765211  1909810000  2.825829       0.65     True  4473.700195  \n",
       "8704   2.763766  1935090000  2.821500       0.65     True  4472.109863  \n",
       "8705   2.743273  1711430000  2.815345       0.65     True  4449.560059  \n",
       "8706   2.739047  1783250000  2.812607       0.65     True  4444.910156  "
      ]
     },
     "execution_count": 18,
     "metadata": {},
     "output_type": "execute_result"
    }
   ],
   "source": [
    "anomalies = test_score_df[test_score_df.anomaly == True]\n",
    "anomalies.head()"
   ]
  },
  {
   "cell_type": "markdown",
   "id": "42ccaefc",
   "metadata": {},
   "source": [
    "This is an example of building a functioning model for Anomaly Detection in Time Series using Keras."
   ]
  },
  {
   "cell_type": "code",
   "execution_count": null,
   "id": "e91709dd",
   "metadata": {},
   "outputs": [],
   "source": []
  }
 ],
 "metadata": {
  "kernelspec": {
   "display_name": "Python 3 (ipykernel)",
   "language": "python",
   "name": "python3"
  },
  "language_info": {
   "codemirror_mode": {
    "name": "ipython",
    "version": 3
   },
   "file_extension": ".py",
   "mimetype": "text/x-python",
   "name": "python",
   "nbconvert_exporter": "python",
   "pygments_lexer": "ipython3",
   "version": "3.7.4"
  },
  "vscode": {
   "interpreter": {
    "hash": "61775d77a85140f22ecde2eb3d4b2b5079a8723ef8ea1b7532dbe62bc1d915b3"
   }
  }
 },
 "nbformat": 4,
 "nbformat_minor": 5
}
