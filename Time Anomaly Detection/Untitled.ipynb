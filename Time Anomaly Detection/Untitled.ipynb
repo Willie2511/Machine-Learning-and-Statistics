{
 "cells": [
  {
   "cell_type": "markdown",
   "id": "f277afc9",
   "metadata": {},
   "source": [
    "# TimeSeries Anamoly Detection Using Keras on the Dow Jones Since 1980"
   ]
  },
  {
   "cell_type": "markdown",
   "id": "cc8e0b50",
   "metadata": {},
   "source": [
    "First we import the necessary libraries we need to perform the analysis on the data."
   ]
  },
  {
   "cell_type": "code",
   "execution_count": 13,
   "id": "13b7a262",
   "metadata": {},
   "outputs": [
    {
     "name": "stdout",
     "output_type": "stream",
     "text": [
      "Tensorflow version: 2.11.0\n"
     ]
    }
   ],
   "source": [
    "import numpy as np\n",
    "import tensorflow as tf\n",
    "import pandas as pd\n",
    "pd.options.mode.chained_assignment = None\n",
    "import seaborn as sns\n",
    "from matplotlib.pylab import rcParams\n",
    "import matplotlib.pyplot as plt\n",
    "import plotly.express as px\n",
    "import plotly.graph_objects as go\n",
    "\n",
    "%matplotlib inline\n",
    "\n",
    "sns.set(style='whitegrid', palette='muted')\n",
    "rcParams['figure.figsize'] = 14, 8\n",
    "np.random.seed(1)\n",
    "tf.random.set_seed(1)\n",
    "\n",
    "print('Tensorflow version:', tf.__version__)\n"
   ]
  },
  {
   "cell_type": "markdown",
   "id": "f23c07a4",
   "metadata": {},
   "source": [
    "Importing the data from the csv file which was downloaded from the Historical database on YahooFinance."
   ]
  },
  {
   "cell_type": "markdown",
   "id": "183d4621",
   "metadata": {},
   "source": [
    "We then print of the head and shape of the data to get an insight into the data we are working with."
   ]
  },
  {
   "cell_type": "code",
   "execution_count": 14,
   "id": "037e7c7d",
   "metadata": {},
   "outputs": [
    {
     "data": {
      "text/html": [
       "<div>\n",
       "<style scoped>\n",
       "    .dataframe tbody tr th:only-of-type {\n",
       "        vertical-align: middle;\n",
       "    }\n",
       "\n",
       "    .dataframe tbody tr th {\n",
       "        vertical-align: top;\n",
       "    }\n",
       "\n",
       "    .dataframe thead th {\n",
       "        text-align: right;\n",
       "    }\n",
       "</style>\n",
       "<table border=\"1\" class=\"dataframe\">\n",
       "  <thead>\n",
       "    <tr style=\"text-align: right;\">\n",
       "      <th></th>\n",
       "      <th>Date</th>\n",
       "      <th>Open</th>\n",
       "      <th>High</th>\n",
       "      <th>Low</th>\n",
       "      <th>Close</th>\n",
       "      <th>Adj Close</th>\n",
       "      <th>Volume</th>\n",
       "    </tr>\n",
       "  </thead>\n",
       "  <tbody>\n",
       "    <tr>\n",
       "      <th>0</th>\n",
       "      <td>1980-01-21</td>\n",
       "      <td>157.350006</td>\n",
       "      <td>157.350006</td>\n",
       "      <td>157.350006</td>\n",
       "      <td>157.350006</td>\n",
       "      <td>157.350006</td>\n",
       "      <td>0</td>\n",
       "    </tr>\n",
       "    <tr>\n",
       "      <th>1</th>\n",
       "      <td>1980-01-22</td>\n",
       "      <td>156.919998</td>\n",
       "      <td>156.919998</td>\n",
       "      <td>156.919998</td>\n",
       "      <td>156.919998</td>\n",
       "      <td>156.919998</td>\n",
       "      <td>0</td>\n",
       "    </tr>\n",
       "    <tr>\n",
       "      <th>2</th>\n",
       "      <td>1980-01-23</td>\n",
       "      <td>158.500000</td>\n",
       "      <td>158.500000</td>\n",
       "      <td>158.500000</td>\n",
       "      <td>158.500000</td>\n",
       "      <td>158.500000</td>\n",
       "      <td>0</td>\n",
       "    </tr>\n",
       "    <tr>\n",
       "      <th>3</th>\n",
       "      <td>1980-01-24</td>\n",
       "      <td>159.240005</td>\n",
       "      <td>159.240005</td>\n",
       "      <td>159.240005</td>\n",
       "      <td>159.240005</td>\n",
       "      <td>159.240005</td>\n",
       "      <td>0</td>\n",
       "    </tr>\n",
       "    <tr>\n",
       "      <th>4</th>\n",
       "      <td>1980-01-25</td>\n",
       "      <td>159.699997</td>\n",
       "      <td>159.699997</td>\n",
       "      <td>159.699997</td>\n",
       "      <td>159.699997</td>\n",
       "      <td>159.699997</td>\n",
       "      <td>0</td>\n",
       "    </tr>\n",
       "  </tbody>\n",
       "</table>\n",
       "</div>"
      ],
      "text/plain": [
       "        Date        Open        High         Low       Close   Adj Close  \\\n",
       "0 1980-01-21  157.350006  157.350006  157.350006  157.350006  157.350006   \n",
       "1 1980-01-22  156.919998  156.919998  156.919998  156.919998  156.919998   \n",
       "2 1980-01-23  158.500000  158.500000  158.500000  158.500000  158.500000   \n",
       "3 1980-01-24  159.240005  159.240005  159.240005  159.240005  159.240005   \n",
       "4 1980-01-25  159.699997  159.699997  159.699997  159.699997  159.699997   \n",
       "\n",
       "   Volume  \n",
       "0       0  \n",
       "1       0  \n",
       "2       0  \n",
       "3       0  \n",
       "4       0  "
      ]
     },
     "execution_count": 14,
     "metadata": {},
     "output_type": "execute_result"
    }
   ],
   "source": [
    "df = pd.read_csv('DowJones.csv', parse_dates=['Date'])\n",
    "df.head()"
   ]
  },
  {
   "cell_type": "code",
   "execution_count": 15,
   "id": "20674f05",
   "metadata": {},
   "outputs": [
    {
     "data": {
      "text/plain": [
       "(10841, 7)"
      ]
     },
     "execution_count": 15,
     "metadata": {},
     "output_type": "execute_result"
    }
   ],
   "source": [
    "df.shape"
   ]
  },
  {
   "cell_type": "markdown",
   "id": "30b4a429",
   "metadata": {},
   "source": [
    "We then preprocess and prepare the data by splitting it into test and train."
   ]
  },
  {
   "cell_type": "code",
   "execution_count": 16,
   "id": "0268338c",
   "metadata": {},
   "outputs": [
    {
     "name": "stdout",
     "output_type": "stream",
     "text": [
      "(8672, 7) (2169, 7)\n"
     ]
    }
   ],
   "source": [
    "train_size = int(len(df) * 0.8)\n",
    "test_size = len(df) - train_size\n",
    "train, test = df.iloc[0:train_size], df.iloc[train_size:len(df)]\n",
    "print(train.shape, test.shape)"
   ]
  },
  {
   "cell_type": "markdown",
   "id": "57de86c4",
   "metadata": {},
   "source": [
    "We then use Standard Scaler from the sklearn preprocessing library which standardizes features by removing the mean and scaling to unit variance."
   ]
  },
  {
   "cell_type": "code",
   "execution_count": 17,
   "id": "8fe3e4d6",
   "metadata": {},
   "outputs": [],
   "source": [
    "from sklearn.preprocessing import StandardScaler\n",
    "\n",
    "scaler = StandardScaler()\n",
    "scaler = scaler.fit(train[['Adj Close']])\n",
    "\n",
    "train['Adj Close'] = scaler.transform(train[['Adj Close']])\n",
    "test['Adj Close'] = scaler.transform(test[['Adj Close']])"
   ]
  },
  {
   "cell_type": "markdown",
   "id": "73fbbb65",
   "metadata": {},
   "source": [
    "We then create a function which returns a 2D array."
   ]
  },
  {
   "cell_type": "code",
   "execution_count": 18,
   "id": "78bd3e48",
   "metadata": {},
   "outputs": [],
   "source": [
    "def create_dataset(X, y, time_steps=1):\n",
    "    Xs, ys = [], []\n",
    "    for i in range(len(X) - time_steps):\n",
    "        v = X.iloc[i:(i + time_steps)].values\n",
    "        Xs.append(v)        \n",
    "        ys.append(y.iloc[i + time_steps])\n",
    "    return np.array(Xs), np.array(ys)"
   ]
  },
  {
   "cell_type": "markdown",
   "id": "90276dd7",
   "metadata": {},
   "source": [
    "We then train the data splits"
   ]
  },
  {
   "cell_type": "code",
   "execution_count": 20,
   "id": "099b0b9a",
   "metadata": {},
   "outputs": [
    {
     "name": "stdout",
     "output_type": "stream",
     "text": [
      "(8642, 30, 1)\n"
     ]
    }
   ],
   "source": [
    "time_steps = 30\n",
    "\n",
    "X_train, y_train = create_dataset(train[['Adj Close']], train.Close, time_steps)\n",
    "X_test, y_test = create_dataset(test[['Adj Close']], test.Close, time_steps)\n",
    "\n",
    "print(X_train.shape)"
   ]
  },
  {
   "cell_type": "code",
   "execution_count": 21,
   "id": "2107c014",
   "metadata": {},
   "outputs": [],
   "source": [
    "timesteps = X_train.shape[1]\n",
    "num_features = X_train.shape[2]"
   ]
  },
  {
   "cell_type": "markdown",
   "id": "84cccdda",
   "metadata": {},
   "source": [
    "This is where we import the Keras libraries which will be used to build an LSTM Autoencoder.\n",
    "Sequential is imported as a model which is used to organise the Keras layers in sequential order.\n",
    "From the Keras Layers library we will use Dense, LSTM, Dropout, RepeatVector and TimeDistributed."
   ]
  },
  {
   "cell_type": "markdown",
   "id": "8ae17b02",
   "metadata": {},
   "source": [
    "Keras Dense layer is the layer that contains all the neurons that are deeply connected within themselves.\n",
    "The Long Short-Term Memory Layer which is used to optimize performance.\n",
    "The Dropout Layer randomly sets input units to 0 with a frequency of rate at each step during training time, which helps prevent overfitting. The rate in the model below is set to 0.2. Dropout is used twice in this sequential model.\n",
    "Repeat Vector is used to repeat input a set number of times.\n",
    "The TimeDistributed Layer allows us to apply a layer to every temporal slice of an input."
   ]
  },
  {
   "cell_type": "markdown",
   "id": "35c2ea70",
   "metadata": {},
   "source": [
    "Each Layer will be essential in creating a LSTM Autoencoder and you will see from the model below that we are using Sequential to sequence the layers.\n",
    "\n",
    "A summary of the model is printed below where you can clearly see the layer type, output shape and param numbers."
   ]
  },
  {
   "cell_type": "code",
   "execution_count": 22,
   "id": "a428366b",
   "metadata": {},
   "outputs": [
    {
     "name": "stderr",
     "output_type": "stream",
     "text": [
      "2023-01-19 21:40:52.354980: I tensorflow/core/platform/cpu_feature_guard.cc:193] This TensorFlow binary is optimized with oneAPI Deep Neural Network Library (oneDNN) to use the following CPU instructions in performance-critical operations:  AVX2 FMA\n",
      "To enable them in other operations, rebuild TensorFlow with the appropriate compiler flags.\n"
     ]
    },
    {
     "name": "stdout",
     "output_type": "stream",
     "text": [
      "Model: \"sequential\"\n",
      "_________________________________________________________________\n",
      " Layer (type)                Output Shape              Param #   \n",
      "=================================================================\n",
      " lstm (LSTM)                 (None, 128)               66560     \n",
      "                                                                 \n",
      " dropout (Dropout)           (None, 128)               0         \n",
      "                                                                 \n",
      " repeat_vector (RepeatVector  (None, 30, 128)          0         \n",
      " )                                                               \n",
      "                                                                 \n",
      " lstm_1 (LSTM)               (None, 30, 128)           131584    \n",
      "                                                                 \n",
      " dropout_1 (Dropout)         (None, 30, 128)           0         \n",
      "                                                                 \n",
      " time_distributed (TimeDistr  (None, 30, 1)            129       \n",
      " ibuted)                                                         \n",
      "                                                                 \n",
      "=================================================================\n",
      "Total params: 198,273\n",
      "Trainable params: 198,273\n",
      "Non-trainable params: 0\n",
      "_________________________________________________________________\n"
     ]
    }
   ],
   "source": [
    "from tensorflow.keras.models import Sequential\n",
    "from tensorflow.keras.layers import Dense, LSTM, Dropout, RepeatVector, TimeDistributed\n",
    "\n",
    "model = Sequential([\n",
    "    LSTM(128, input_shape=(timesteps, num_features)),\n",
    "    Dropout(0.2),\n",
    "    RepeatVector(timesteps),\n",
    "    LSTM(128, return_sequences=True),\n",
    "    Dropout(0.2),\n",
    "    TimeDistributed(Dense(num_features))                 \n",
    "])\n",
    "\n",
    "model.compile(loss='mae', optimizer='adam')\n",
    "model.summary()"
   ]
  },
  {
   "cell_type": "code",
   "execution_count": 23,
   "id": "eb355dbb",
   "metadata": {},
   "outputs": [
    {
     "name": "stdout",
     "output_type": "stream",
     "text": [
      "Epoch 1/100\n",
      "244/244 [==============================] - 36s 106ms/step - loss: 1223.3760 - val_loss: 3165.9927\n",
      "Epoch 2/100\n",
      "244/244 [==============================] - 23s 94ms/step - loss: 1186.2993 - val_loss: 3130.6902\n",
      "Epoch 3/100\n",
      "244/244 [==============================] - 22s 92ms/step - loss: 1156.2496 - val_loss: 3100.4580\n",
      "Epoch 4/100\n",
      "244/244 [==============================] - 23s 92ms/step - loss: 1122.5999 - val_loss: 3067.2849\n",
      "Epoch 5/100\n",
      "244/244 [==============================] - 23s 96ms/step - loss: 1090.6007 - val_loss: 3035.7417\n",
      "Epoch 6/100\n",
      "244/244 [==============================] - 23s 93ms/step - loss: 1060.8284 - val_loss: 3005.7229\n",
      "Epoch 7/100\n",
      "244/244 [==============================] - 21s 86ms/step - loss: 1035.1339 - val_loss: 2978.2815\n",
      "Epoch 8/100\n",
      "244/244 [==============================] - 21s 88ms/step - loss: 1013.2776 - val_loss: 2952.7549\n",
      "Epoch 9/100\n",
      "244/244 [==============================] - 20s 84ms/step - loss: 993.7006 - val_loss: 2928.1812\n",
      "Epoch 10/100\n",
      "244/244 [==============================] - 21s 87ms/step - loss: 976.6932 - val_loss: 2905.2903\n",
      "Epoch 11/100\n",
      "244/244 [==============================] - 20s 82ms/step - loss: 962.0070 - val_loss: 2884.3635\n",
      "Epoch 12/100\n",
      "244/244 [==============================] - 20s 82ms/step - loss: 949.2493 - val_loss: 2864.1558\n",
      "Epoch 13/100\n",
      "244/244 [==============================] - 22s 88ms/step - loss: 937.2216 - val_loss: 2843.8301\n",
      "Epoch 14/100\n",
      "244/244 [==============================] - 20s 83ms/step - loss: 926.6490 - val_loss: 2825.4751\n",
      "Epoch 15/100\n",
      "244/244 [==============================] - 22s 91ms/step - loss: 917.3147 - val_loss: 2808.6782\n",
      "Epoch 16/100\n",
      "244/244 [==============================] - 22s 90ms/step - loss: 909.9486 - val_loss: 2793.1248\n",
      "Epoch 17/100\n",
      "244/244 [==============================] - 23s 92ms/step - loss: 903.6135 - val_loss: 2778.9666\n",
      "Epoch 18/100\n",
      "244/244 [==============================] - 21s 87ms/step - loss: 898.3080 - val_loss: 2765.8157\n",
      "Epoch 19/100\n",
      "244/244 [==============================] - 24s 98ms/step - loss: 893.6354 - val_loss: 2753.5864\n",
      "Epoch 20/100\n",
      "244/244 [==============================] - 22s 90ms/step - loss: 889.7684 - val_loss: 2742.1919\n",
      "Epoch 21/100\n",
      "244/244 [==============================] - 24s 96ms/step - loss: 886.2715 - val_loss: 2731.5176\n",
      "Epoch 22/100\n",
      "244/244 [==============================] - 24s 97ms/step - loss: 883.2891 - val_loss: 2721.4790\n",
      "Epoch 23/100\n",
      "244/244 [==============================] - 21s 86ms/step - loss: 880.5398 - val_loss: 2711.9075\n",
      "Epoch 24/100\n",
      "244/244 [==============================] - 28s 113ms/step - loss: 877.9046 - val_loss: 2702.6465\n",
      "Epoch 25/100\n",
      "244/244 [==============================] - 20s 83ms/step - loss: 875.5471 - val_loss: 2693.8386\n",
      "Epoch 26/100\n",
      "244/244 [==============================] - 22s 91ms/step - loss: 873.2391 - val_loss: 2685.2117\n",
      "Epoch 27/100\n",
      "244/244 [==============================] - 26s 107ms/step - loss: 870.9875 - val_loss: 2676.8193\n",
      "Epoch 28/100\n",
      "244/244 [==============================] - 20s 82ms/step - loss: 868.9364 - val_loss: 2668.6357\n",
      "Epoch 29/100\n",
      "244/244 [==============================] - 22s 90ms/step - loss: 866.9224 - val_loss: 2660.6450\n",
      "Epoch 30/100\n",
      "244/244 [==============================] - 21s 85ms/step - loss: 865.1522 - val_loss: 2652.8198\n",
      "Epoch 31/100\n",
      "244/244 [==============================] - 20s 82ms/step - loss: 863.4842 - val_loss: 2645.1829\n",
      "Epoch 32/100\n",
      "244/244 [==============================] - 22s 90ms/step - loss: 861.3168 - val_loss: 2635.1526\n",
      "Epoch 33/100\n",
      "244/244 [==============================] - 23s 94ms/step - loss: 859.5273 - val_loss: 2627.8579\n",
      "Epoch 34/100\n",
      "244/244 [==============================] - 23s 92ms/step - loss: 857.8964 - val_loss: 2620.6929\n",
      "Epoch 35/100\n",
      "244/244 [==============================] - 21s 86ms/step - loss: 856.4080 - val_loss: 2613.6938\n",
      "Epoch 36/100\n",
      "244/244 [==============================] - 20s 84ms/step - loss: 854.9937 - val_loss: 2606.8582\n",
      "Epoch 37/100\n",
      "244/244 [==============================] - 19s 78ms/step - loss: 853.7291 - val_loss: 2600.1858\n",
      "Epoch 38/100\n",
      "244/244 [==============================] - 20s 82ms/step - loss: 852.4034 - val_loss: 2593.6665\n",
      "Epoch 39/100\n",
      "244/244 [==============================] - 24s 99ms/step - loss: 851.1743 - val_loss: 2587.2908\n",
      "Epoch 40/100\n",
      "244/244 [==============================] - 21s 88ms/step - loss: 850.0200 - val_loss: 2581.0381\n",
      "Epoch 41/100\n",
      "244/244 [==============================] - 27s 111ms/step - loss: 848.8988 - val_loss: 2574.8755\n",
      "Epoch 42/100\n",
      "244/244 [==============================] - 21s 88ms/step - loss: 847.7421 - val_loss: 2568.8406\n",
      "Epoch 43/100\n",
      "244/244 [==============================] - 21s 84ms/step - loss: 846.7087 - val_loss: 2562.9214\n",
      "Epoch 44/100\n",
      "244/244 [==============================] - 21s 88ms/step - loss: 845.5792 - val_loss: 2557.1006\n",
      "Epoch 45/100\n",
      "244/244 [==============================] - 20s 82ms/step - loss: 844.6469 - val_loss: 2551.3818\n",
      "Epoch 46/100\n",
      "244/244 [==============================] - 22s 92ms/step - loss: 843.6296 - val_loss: 2545.7573\n",
      "Epoch 47/100\n",
      "244/244 [==============================] - 19s 79ms/step - loss: 842.7451 - val_loss: 2540.2239\n",
      "Epoch 48/100\n",
      "244/244 [==============================] - 20s 81ms/step - loss: 841.8848 - val_loss: 2534.8032\n",
      "Epoch 49/100\n",
      "244/244 [==============================] - 20s 82ms/step - loss: 841.0129 - val_loss: 2529.4763\n",
      "Epoch 50/100\n",
      "244/244 [==============================] - 20s 80ms/step - loss: 840.3544 - val_loss: 2524.2471\n",
      "Epoch 51/100\n",
      "244/244 [==============================] - 21s 85ms/step - loss: 839.4534 - val_loss: 2519.1260\n",
      "Epoch 52/100\n",
      "244/244 [==============================] - 24s 97ms/step - loss: 845.6678 - val_loss: 2524.5632\n",
      "Epoch 53/100\n",
      "244/244 [==============================] - 22s 92ms/step - loss: 839.4851 - val_loss: 2519.5237\n",
      "Epoch 54/100\n",
      "244/244 [==============================] - 21s 88ms/step - loss: 838.8171 - val_loss: 2514.5869\n",
      "Epoch 55/100\n",
      "244/244 [==============================] - 23s 94ms/step - loss: 838.1246 - val_loss: 2509.7612\n",
      "Epoch 56/100\n",
      "244/244 [==============================] - 22s 91ms/step - loss: 837.3000 - val_loss: 2505.0549\n",
      "Epoch 57/100\n",
      "244/244 [==============================] - 23s 93ms/step - loss: 836.8749 - val_loss: 2500.4602\n",
      "Epoch 58/100\n",
      "244/244 [==============================] - 22s 92ms/step - loss: 836.2350 - val_loss: 2495.9792\n",
      "Epoch 59/100\n",
      "244/244 [==============================] - 26s 105ms/step - loss: 835.5276 - val_loss: 2491.5991\n",
      "Epoch 60/100\n",
      "244/244 [==============================] - 21s 88ms/step - loss: 835.0925 - val_loss: 2487.3333\n",
      "Epoch 61/100\n",
      "244/244 [==============================] - 27s 113ms/step - loss: 834.5663 - val_loss: 2483.1980\n",
      "Epoch 62/100\n",
      "244/244 [==============================] - 21s 85ms/step - loss: 834.0983 - val_loss: 2479.1731\n",
      "Epoch 63/100\n",
      "244/244 [==============================] - 22s 89ms/step - loss: 833.7350 - val_loss: 2475.2766\n",
      "Epoch 64/100\n",
      "244/244 [==============================] - 22s 90ms/step - loss: 833.3826 - val_loss: 2471.5046\n",
      "Epoch 65/100\n",
      "244/244 [==============================] - 24s 96ms/step - loss: 833.0826 - val_loss: 2467.8486\n",
      "Epoch 66/100\n",
      "244/244 [==============================] - 24s 97ms/step - loss: 832.7807 - val_loss: 2464.3054\n",
      "Epoch 67/100\n",
      "244/244 [==============================] - 22s 89ms/step - loss: 832.4694 - val_loss: 2460.8726\n",
      "Epoch 68/100\n",
      "244/244 [==============================] - 21s 87ms/step - loss: 831.9993 - val_loss: 2457.5696\n",
      "Epoch 69/100\n",
      "244/244 [==============================] - 20s 84ms/step - loss: 831.7256 - val_loss: 2454.3533\n",
      "Epoch 70/100\n",
      "244/244 [==============================] - 21s 86ms/step - loss: 831.6080 - val_loss: 2451.2332\n",
      "Epoch 71/100\n",
      "244/244 [==============================] - 23s 96ms/step - loss: 831.2260 - val_loss: 2448.2251\n",
      "Epoch 72/100\n",
      "244/244 [==============================] - 23s 95ms/step - loss: 830.9578 - val_loss: 2445.3005\n",
      "Epoch 73/100\n",
      "244/244 [==============================] - 21s 87ms/step - loss: 830.7888 - val_loss: 2442.4875\n",
      "Epoch 74/100\n",
      "244/244 [==============================] - 23s 96ms/step - loss: 830.6279 - val_loss: 2439.7583\n",
      "Epoch 75/100\n",
      "244/244 [==============================] - 22s 92ms/step - loss: 830.5499 - val_loss: 2437.1270\n",
      "Epoch 76/100\n"
     ]
    },
    {
     "name": "stdout",
     "output_type": "stream",
     "text": [
      "244/244 [==============================] - 20s 84ms/step - loss: 830.3485 - val_loss: 2434.5977\n",
      "Epoch 77/100\n",
      "244/244 [==============================] - 20s 82ms/step - loss: 830.0272 - val_loss: 2432.1370\n",
      "Epoch 78/100\n",
      "244/244 [==============================] - 20s 80ms/step - loss: 830.0065 - val_loss: 2429.7512\n",
      "Epoch 79/100\n",
      "244/244 [==============================] - 22s 90ms/step - loss: 829.8245 - val_loss: 2427.4353\n",
      "Epoch 80/100\n",
      "244/244 [==============================] - 21s 85ms/step - loss: 829.9581 - val_loss: 2425.1997\n",
      "Epoch 81/100\n",
      "244/244 [==============================] - 17s 71ms/step - loss: 829.7346 - val_loss: 2423.0344\n",
      "Epoch 82/100\n",
      "244/244 [==============================] - 17s 70ms/step - loss: 829.6231 - val_loss: 2420.9204\n",
      "Epoch 83/100\n",
      "244/244 [==============================] - 17s 71ms/step - loss: 829.4472 - val_loss: 2418.8555\n",
      "Epoch 84/100\n",
      "244/244 [==============================] - 22s 89ms/step - loss: 829.3796 - val_loss: 2416.8691\n",
      "Epoch 85/100\n",
      "244/244 [==============================] - 23s 95ms/step - loss: 829.2566 - val_loss: 2414.9436\n",
      "Epoch 86/100\n",
      "244/244 [==============================] - 25s 102ms/step - loss: 829.0201 - val_loss: 2413.0752\n",
      "Epoch 87/100\n",
      "244/244 [==============================] - 26s 106ms/step - loss: 829.1511 - val_loss: 2411.2351\n",
      "Epoch 88/100\n",
      "244/244 [==============================] - 24s 97ms/step - loss: 829.0960 - val_loss: 2409.4492\n",
      "Epoch 89/100\n",
      "244/244 [==============================] - 27s 111ms/step - loss: 828.9210 - val_loss: 2407.7122\n",
      "Epoch 90/100\n",
      "244/244 [==============================] - 21s 85ms/step - loss: 828.9615 - val_loss: 2406.0278\n",
      "Epoch 91/100\n",
      "244/244 [==============================] - 21s 86ms/step - loss: 828.7130 - val_loss: 2404.3792\n",
      "Epoch 92/100\n",
      "244/244 [==============================] - 26s 106ms/step - loss: 828.7583 - val_loss: 2402.7869\n",
      "Epoch 93/100\n",
      "244/244 [==============================] - 22s 92ms/step - loss: 828.7111 - val_loss: 2401.2034\n",
      "Epoch 94/100\n",
      "244/244 [==============================] - 23s 94ms/step - loss: 828.6297 - val_loss: 2399.6802\n",
      "Epoch 95/100\n",
      "244/244 [==============================] - 22s 90ms/step - loss: 828.6298 - val_loss: 2398.2000\n",
      "Epoch 96/100\n",
      "244/244 [==============================] - 24s 97ms/step - loss: 828.5471 - val_loss: 2396.7473\n",
      "Epoch 97/100\n",
      "244/244 [==============================] - 22s 91ms/step - loss: 828.4928 - val_loss: 2395.3198\n",
      "Epoch 98/100\n",
      "244/244 [==============================] - 22s 91ms/step - loss: 828.6227 - val_loss: 2393.9241\n",
      "Epoch 99/100\n",
      "244/244 [==============================] - 23s 96ms/step - loss: 828.5336 - val_loss: 2392.5635\n",
      "Epoch 100/100\n",
      "244/244 [==============================] - 21s 86ms/step - loss: 828.4684 - val_loss: 2391.2356\n"
     ]
    }
   ],
   "source": [
    "es = tf.keras.callbacks.EarlyStopping(monitor='val_loss', patience=3, mode='min')\n",
    "history = model.fit(\n",
    "    X_train, y_train,\n",
    "    epochs=100,\n",
    "    batch_size=32,\n",
    "    validation_split=0.1,\n",
    "    callbacks = [es],\n",
    "    shuffle=False\n",
    ")"
   ]
  },
  {
   "cell_type": "code",
   "execution_count": 24,
   "id": "21545f12",
   "metadata": {},
   "outputs": [
    {
     "data": {
      "image/png": "[encoded data removed]",
      "text/plain": [
       "<Figure size 1008x576 with 1 Axes>"
      ]
     },
     "metadata": {},
     "output_type": "display_data"
    }
   ],
   "source": [
    "plt.plot(history.history['loss'], label='Training Loss')\n",
    "plt.plot(history.history['val_loss'], label='Validation Loss')\n",
    "plt.legend();"
   ]
  },
  {
   "cell_type": "code",
   "execution_count": 25,
   "id": "6484807b",
   "metadata": {},
   "outputs": [
    {
     "name": "stdout",
     "output_type": "stream",
     "text": [
      "271/271 [==============================] - 12s 40ms/step\n"
     ]
    }
   ],
   "source": [
    "X_train_pred = model.predict(X_train)\n",
    "\n",
    "train_mae_loss = pd.DataFrame(np.mean(np.abs(X_train_pred - X_train), axis=1), columns=['Error'])"
   ]
  },
  {
   "cell_type": "code",
   "execution_count": 26,
   "id": "9275f2a1",
   "metadata": {},
   "outputs": [
    {
     "name": "stderr",
     "output_type": "stream",
     "text": [
      "/Users/Willie/opt/anaconda3/lib/python3.7/site-packages/seaborn/distributions.py:2619: FutureWarning: `distplot` is a deprecated function and will be removed in a future version. Please adapt your code to use either `displot` (a figure-level function with similar flexibility) or `histplot` (an axes-level function for histograms).\n",
      "  warnings.warn(msg, FutureWarning)\n"
     ]
    },
    {
     "data": {
      "image/png": "[encoded data removed]",
      "text/plain": [
       "<Figure size 1008x576 with 1 Axes>"
      ]
     },
     "metadata": {},
     "output_type": "display_data"
    }
   ],
   "source": [
    "sns.distplot(train_mae_loss, bins=50, kde=True);"
   ]
  },
  {
   "cell_type": "code",
   "execution_count": 27,
   "id": "7d010220",
   "metadata": {},
   "outputs": [
    {
     "name": "stdout",
     "output_type": "stream",
     "text": [
      "67/67 [==============================] - 3s 39ms/step\n"
     ]
    }
   ],
   "source": [
    "X_test_pred = model.predict(X_test)\n",
    "\n",
    "test_mae_loss = np.mean(np.abs(X_test_pred - X_test), axis=1)"
   ]
  },
  {
   "cell_type": "code",
   "execution_count": 28,
   "id": "049e0c49",
   "metadata": {},
   "outputs": [
    {
     "name": "stderr",
     "output_type": "stream",
     "text": [
      "/Users/Willie/opt/anaconda3/lib/python3.7/site-packages/seaborn/distributions.py:2619: FutureWarning: `distplot` is a deprecated function and will be removed in a future version. Please adapt your code to use either `displot` (a figure-level function with similar flexibility) or `histplot` (an axes-level function for histograms).\n",
      "  warnings.warn(msg, FutureWarning)\n"
     ]
    },
    {
     "data": {
      "image/png": "[encoded data removed]",
      "text/plain": [
       "<Figure size 1008x576 with 1 Axes>"
      ]
     },
     "metadata": {},
     "output_type": "display_data"
    }
   ],
   "source": [
    "sns.distplot(test_mae_loss, bins=50, kde=True);"
   ]
  },
  {
   "cell_type": "code",
   "execution_count": 30,
   "id": "907bb8f6",
   "metadata": {},
   "outputs": [],
   "source": [
    "THRESHOLD = 0.65\n",
    "\n",
    "test_score_df = pd.DataFrame(test[time_steps:])\n",
    "test_score_df['loss'] = test_mae_loss\n",
    "test_score_df['threshold'] = THRESHOLD\n",
    "test_score_df['anomaly'] = test_score_df.loss > test_score_df.threshold\n",
    "test_score_df['close'] = test[time_steps:].Close"
   ]
  },
  {
   "cell_type": "code",
   "execution_count": 48,
   "id": "d0f3c7fd",
   "metadata": {},
   "outputs": [
    {
     "data": {
      "text/html": [
       "<div>\n",
       "<style scoped>\n",
       "    .dataframe tbody tr th:only-of-type {\n",
       "        vertical-align: middle;\n",
       "    }\n",
       "\n",
       "    .dataframe tbody tr th {\n",
       "        vertical-align: top;\n",
       "    }\n",
       "\n",
       "    .dataframe thead th {\n",
       "        text-align: right;\n",
       "    }\n",
       "</style>\n",
       "<table border=\"1\" class=\"dataframe\">\n",
       "  <thead>\n",
       "    <tr style=\"text-align: right;\">\n",
       "      <th></th>\n",
       "      <th>Date</th>\n",
       "      <th>Open</th>\n",
       "      <th>High</th>\n",
       "      <th>Low</th>\n",
       "      <th>Close</th>\n",
       "      <th>Adj Close</th>\n",
       "      <th>Volume</th>\n",
       "      <th>loss</th>\n",
       "      <th>threshold</th>\n",
       "      <th>anomaly</th>\n",
       "      <th>close</th>\n",
       "    </tr>\n",
       "  </thead>\n",
       "  <tbody>\n",
       "    <tr>\n",
       "      <th>8702</th>\n",
       "      <td>2014-07-22</td>\n",
       "      <td>4444.939941</td>\n",
       "      <td>4464.129883</td>\n",
       "      <td>4443.350098</td>\n",
       "      <td>4456.020020</td>\n",
       "      <td>2.749144</td>\n",
       "      <td>1724440000</td>\n",
       "      <td>806.097064</td>\n",
       "      <td>0.65</td>\n",
       "      <td>True</td>\n",
       "      <td>4456.020020</td>\n",
       "    </tr>\n",
       "    <tr>\n",
       "      <th>8703</th>\n",
       "      <td>2014-07-23</td>\n",
       "      <td>4468.160156</td>\n",
       "      <td>4480.729980</td>\n",
       "      <td>4457.950195</td>\n",
       "      <td>4473.700195</td>\n",
       "      <td>2.765211</td>\n",
       "      <td>1909810000</td>\n",
       "      <td>806.093435</td>\n",
       "      <td>0.65</td>\n",
       "      <td>True</td>\n",
       "      <td>4473.700195</td>\n",
       "    </tr>\n",
       "    <tr>\n",
       "      <th>8704</th>\n",
       "      <td>2014-07-24</td>\n",
       "      <td>4481.609863</td>\n",
       "      <td>4485.500000</td>\n",
       "      <td>4465.939941</td>\n",
       "      <td>4472.109863</td>\n",
       "      <td>2.763766</td>\n",
       "      <td>1935090000</td>\n",
       "      <td>806.089324</td>\n",
       "      <td>0.65</td>\n",
       "      <td>True</td>\n",
       "      <td>4472.109863</td>\n",
       "    </tr>\n",
       "    <tr>\n",
       "      <th>8705</th>\n",
       "      <td>2014-07-25</td>\n",
       "      <td>4448.060059</td>\n",
       "      <td>4457.950195</td>\n",
       "      <td>4430.430176</td>\n",
       "      <td>4449.560059</td>\n",
       "      <td>2.743273</td>\n",
       "      <td>1711430000</td>\n",
       "      <td>806.085078</td>\n",
       "      <td>0.65</td>\n",
       "      <td>True</td>\n",
       "      <td>4449.560059</td>\n",
       "    </tr>\n",
       "    <tr>\n",
       "      <th>8706</th>\n",
       "      <td>2014-07-28</td>\n",
       "      <td>4451.120117</td>\n",
       "      <td>4455.390137</td>\n",
       "      <td>4413.919922</td>\n",
       "      <td>4444.910156</td>\n",
       "      <td>2.739047</td>\n",
       "      <td>1783250000</td>\n",
       "      <td>806.080475</td>\n",
       "      <td>0.65</td>\n",
       "      <td>True</td>\n",
       "      <td>4444.910156</td>\n",
       "    </tr>\n",
       "  </tbody>\n",
       "</table>\n",
       "</div>"
      ],
      "text/plain": [
       "           Date         Open         High          Low        Close  \\\n",
       "8702 2014-07-22  4444.939941  4464.129883  4443.350098  4456.020020   \n",
       "8703 2014-07-23  4468.160156  4480.729980  4457.950195  4473.700195   \n",
       "8704 2014-07-24  4481.609863  4485.500000  4465.939941  4472.109863   \n",
       "8705 2014-07-25  4448.060059  4457.950195  4430.430176  4449.560059   \n",
       "8706 2014-07-28  4451.120117  4455.390137  4413.919922  4444.910156   \n",
       "\n",
       "      Adj Close      Volume        loss  threshold  anomaly        close  \n",
       "8702   2.749144  1724440000  806.097064       0.65     True  4456.020020  \n",
       "8703   2.765211  1909810000  806.093435       0.65     True  4473.700195  \n",
       "8704   2.763766  1935090000  806.089324       0.65     True  4472.109863  \n",
       "8705   2.743273  1711430000  806.085078       0.65     True  4449.560059  \n",
       "8706   2.739047  1783250000  806.080475       0.65     True  4444.910156  "
      ]
     },
     "execution_count": 48,
     "metadata": {},
     "output_type": "execute_result"
    }
   ],
   "source": [
    "anomalies = test_score_df[test_score_df.anomaly == True]\n",
    "anomalies.head()"
   ]
  },
  {
   "cell_type": "code",
   "execution_count": null,
   "id": "d687a2bf",
   "metadata": {},
   "outputs": [],
   "source": []
  }
 ],
 "metadata": {
  "kernelspec": {
   "display_name": "Python 3 (ipykernel)",
   "language": "python",
   "name": "python3"
  },
  "language_info": {
   "codemirror_mode": {
    "name": "ipython",
    "version": 3
   },
   "file_extension": ".py",
   "mimetype": "text/x-python",
   "name": "python",
   "nbconvert_exporter": "python",
   "pygments_lexer": "ipython3",
   "version": "3.7.4"
  }
 },
 "nbformat": 4,
 "nbformat_minor": 5
}
